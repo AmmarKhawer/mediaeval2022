{
 "cells": [
  {
   "cell_type": "code",
   "execution_count": 1,
   "id": "df4df3fd",
   "metadata": {},
   "outputs": [],
   "source": [
    "import torch\n",
    "import torch.utils.data as tordata\n",
    "import pandas as pd \n",
    "import os \n",
    "import numpy as np\n",
    "from torchvision.datasets.folder import pil_loader\n",
    "from matplotlib import pyplot as plt \n",
    "import random\n",
    "import re\n",
    "import os.path as osp\n",
    "import platform\n"
   ]
  },
  {
   "cell_type": "code",
   "execution_count": 2,
   "id": "5dbbd093",
   "metadata": {},
   "outputs": [],
   "source": [
    "import re\n",
    "\n",
    "def atoi(text):\n",
    "    return int(text) if text.isdigit() else text\n",
    "def natural_keys(text):\n",
    "    '''\n",
    "    alist.sort(key=natural_keys) sorts in human order\n",
    "    http://nedbatchelder.com/blog/200712/human_sorting.html\n",
    "    (See Toothy's implementation in the comments)\n",
    "    '''\n",
    "    return [ atoi(c) for c in re.split(r'(\\d+)', text) ]\n",
    "def profilesort(profiles):\n",
    "    sorted=[]\n",
    "    for profile in profiles :\n",
    "        sorted.append(int(profile))\n",
    "    sorted.sort()\n",
    "    return sorted\n",
    "def img_reader(ipath):\n",
    "    paths=[]\n",
    "\n",
    "    pathdict={}\n",
    "    profiles=os.listdir(ipath)\n",
    "    profiles.sort(key=natural_keys)\n",
    "\n",
    "    for x in profiles:\n",
    "        images=[]\n",
    "        paths.append(x)\n",
    "        pics=os.listdir(os.path.join(ipath,x))\n",
    "        pics.sort(key=natural_keys)\n",
    "        pathdict[x]=pics\n",
    "    return pathdict\n",
    "\n",
    "def dict_keylist(dict):\n",
    "    keylist=[]\n",
    "    for key in dict.keys():\n",
    "        keylist.append(key)\n",
    "    return keylist\n",
    "\n",
    "def path_list(ipath):\n",
    "    paths=[]\n",
    "    \n",
    "    profiles=os.listdir(ipath)\n",
    "    profiles.sort(key=natural_keys)\n",
    "\n",
    "    for x in profiles:\n",
    "        \n",
    "        pics=os.listdir(os.path.join(ipath,x))\n",
    "        for y in pics :\n",
    "            paths.append(os.path.join(ipath,x,y))\n",
    "        \n",
    "    return paths"
   ]
  },
  {
   "cell_type": "code",
   "execution_count": 4,
   "id": "87c59098",
   "metadata": {},
   "outputs": [
    {
     "ename": "NameError",
     "evalue": "name 'profiles' is not defined",
     "output_type": "error",
     "traceback": [
      "\u001b[1;31m---------------------------------------------------------------------------\u001b[0m",
      "\u001b[1;31mNameError\u001b[0m                                 Traceback (most recent call last)",
      "\u001b[1;32m<ipython-input-4-fa0d10eaf49e>\u001b[0m in \u001b[0;36m<module>\u001b[1;34m\u001b[0m\n\u001b[1;32m----> 1\u001b[1;33m \u001b[0mprofiles\u001b[0m\u001b[1;33m\u001b[0m\u001b[1;33m\u001b[0m\u001b[0m\n\u001b[0m",
      "\u001b[1;31mNameError\u001b[0m: name 'profiles' is not defined"
     ]
    }
   ],
   "source": []
  },
  {
   "cell_type": "code",
   "execution_count": 6,
   "id": "99e39382",
   "metadata": {},
   "outputs": [
    {
     "ename": "NameError",
     "evalue": "name 'ipath' is not defined",
     "output_type": "error",
     "traceback": [
      "\u001b[1;31m---------------------------------------------------------------------------\u001b[0m",
      "\u001b[1;31mNameError\u001b[0m                                 Traceback (most recent call last)",
      "\u001b[1;32m<ipython-input-6-112e4b0b9ffa>\u001b[0m in \u001b[0;36m<module>\u001b[1;34m\u001b[0m\n\u001b[1;32m----> 1\u001b[1;33m \u001b[0mprofiles\u001b[0m\u001b[1;33m=\u001b[0m\u001b[0mos\u001b[0m\u001b[1;33m.\u001b[0m\u001b[0mlistdir\u001b[0m\u001b[1;33m(\u001b[0m\u001b[0mipath\u001b[0m\u001b[1;33m)\u001b[0m\u001b[1;33m\u001b[0m\u001b[1;33m\u001b[0m\u001b[0m\n\u001b[0m",
      "\u001b[1;31mNameError\u001b[0m: name 'ipath' is not defined"
     ]
    }
   ],
   "source": [
    "profiles=os.listdir(ipath)"
   ]
  },
  {
   "cell_type": "code",
   "execution_count": null,
   "id": "ae0dbba6",
   "metadata": {},
   "outputs": [],
   "source": []
  }
 ],
 "metadata": {
  "kernelspec": {
   "display_name": "Python 3",
   "language": "python",
   "name": "python3"
  },
  "language_info": {
   "codemirror_mode": {
    "name": "ipython",
    "version": 3
   },
   "file_extension": ".py",
   "mimetype": "text/x-python",
   "name": "python",
   "nbconvert_exporter": "python",
   "pygments_lexer": "ipython3",
   "version": "3.6.13"
  }
 },
 "nbformat": 4,
 "nbformat_minor": 5
}
